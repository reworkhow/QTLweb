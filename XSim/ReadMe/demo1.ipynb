{
 "metadata": {
  "name": "",
  "signature": "sha256:4786ab552ac2003293f8521233c5b9990caa1204f1a1202e804bcf6b0ac1f7b4"
 },
 "nbformat": 3,
 "nbformat_minor": 0,
 "worksheets": [
  {
   "cells": [
    {
     "cell_type": "heading",
     "level": 4,
     "metadata": {},
     "source": [
      "This file shows several main file demos for different mating structures. "
     ]
    },
    {
     "cell_type": "markdown",
     "metadata": {},
     "source": [
      "**Scenario 1** : random mating for 10 generations for one population"
     ]
    },
    {
     "cell_type": "code",
     "collapsed": false,
     "input": [
      "%%file main.cpp\n",
      "\n",
      "#include <iostream>\n",
      "#include <fstream>\n",
      "#include \"cohort.h\"\n",
      "#include \"tools.h\"\n",
      "#include \"simPop.h\"\n",
      "#include \"global.h\"\n",
      "#include \"parmMap.h\"\n",
      "\n",
      "int main(int argc, const char * argv[])\n",
      "{   \n",
      "        ///user-defined parameters and map positions\n",
      "    unsigned popSize =  10;\n",
      "    unsigned nGen    =  10;\n",
      "  \n",
      "    ParmMap parameters;\n",
      "    string genomeFile=\"/Users/erxingfangshui/Dropbox/GenSim/GenSim1.3_xcode/genomeInfo.txt\";\n",
      "    string mapFile=\"/Users/erxingfangshui/Dropbox/GenSim/GenSim1.3_xcode/mapPos.txt\";\n",
      "    string haplotype=\"/Users/erxingfangshui/Dropbox/GenSim/GenSim1.3_xcode/haplotype.txt\";\n",
      "    \n",
      "    SimPop osim(genomeFile,mapFile);\n",
      "    osim.popFounders(popSize,haplotype);\n",
      "    \n",
      "    osim.popSample(popSize,nGen);\n",
      "    MatrixXf out;\n",
      "    out=osim.getGenotypes();\n",
      "    ofstream outFile(\"/Users/erxingfangshui/Desktop/genotype.txt\");\n",
      "    outFile << out;\n",
      "    \n",
      "    return 0;\n",
      "\n",
      "}"
     ],
     "language": "python",
     "metadata": {},
     "outputs": [
      {
       "output_type": "stream",
       "stream": "stdout",
       "text": [
        "Writing main.cpp\n"
       ]
      }
     ],
     "prompt_number": 28
    },
    {
     "cell_type": "code",
     "collapsed": false,
     "input": [
      "%%file main.cpp\n",
      "\n",
      "#include <iostream>\n",
      "#include <fstream>\n",
      "#include \"cohort.h\"\n",
      "#include \"tools.h\"\n",
      "#include \"simPop.h\"\n",
      "#include \"global.h\"\n",
      "#include \"parmMap.h\"\n",
      "\n",
      "int main(int argc, const char * argv[])\n",
      "{   \n",
      "\n",
      "    ///constant nLoci, chrLength and random map positions\n",
      "    unsigned nLoci   =  100;\n",
      "    unsigned nChrm   =  1;\n",
      "    double chrLength =  0.01;\n",
      "    unsigned popSize =  100;\n",
      "    unsigned nGen    =  10;\n",
      "    double   mutRate =  1e-5;\n",
      "    \n",
      "    SimPop osim(nChrm,nLoci,chrLength,mutRate);\n",
      "    osim.popFounders(popSize);\n",
      "    osim.popSample(popSize,nGen);\n",
      "    MatrixXf out;\n",
      "    out=osim.getGenotypes();\n",
      "    ofstream outFile(\"/Users/erxingfangshui/genotype.example\");\n",
      "    outFile << out;\n",
      "    cout<<\"DONE\"<<endl;\n",
      "    \n",
      "    return 0;\n",
      "\n",
      "}"
     ],
     "language": "python",
     "metadata": {},
     "outputs": [
      {
       "output_type": "stream",
       "stream": "stdout",
       "text": [
        "Overwriting main.cpp\n"
       ]
      }
     ],
     "prompt_number": 29
    },
    {
     "cell_type": "code",
     "collapsed": false,
     "input": [
      "%%file  makeGenSim\n",
      "#############################################################################\n",
      "# Makefile for building: OSim\n",
      "\n",
      "INCPATH = -I/Users/erxingfangshui/Dropbox/CODE/eigen3 -I/Users/erxingfangshui/Dropbox/CODE/boost\n",
      "\n",
      "GenSim:\tmain.o libGenSim.a\n",
      "\tg++ -o GenSim main.o libGenSim.a \n",
      "\n",
      "main.o: main.cpp \n",
      "\tg++ $(INCPATH) -c -o main.o main.cpp\n",
      "\n",
      "clean:\n",
      "\t\\rm main.o GenSim"
     ],
     "language": "python",
     "metadata": {},
     "outputs": [
      {
       "output_type": "stream",
       "stream": "stdout",
       "text": [
        "Writing makeGenSim\n"
       ]
      }
     ],
     "prompt_number": 35
    },
    {
     "cell_type": "code",
     "collapsed": false,
     "input": [
      "%%bash\n",
      "mv makeGenSim ../\n",
      "mv main.cpp ../\n",
      "cd ..\n",
      "make -f makeGenSim "
     ],
     "language": "python",
     "metadata": {},
     "outputs": [
      {
       "output_type": "stream",
       "stream": "stdout",
       "text": [
        "g++ -I/Users/erxingfangshui/Dropbox/CODE/eigen3 -I/Users/erxingfangshui/Dropbox/CODE/boost -c -o main.o main.cpp\n",
        "g++ -o GenSim main.o libGenSim.a \n"
       ]
      },
      {
       "output_type": "stream",
       "stream": "stderr",
       "text": [
        "In file included from main.cpp:4:\n",
        "In file included from ./cohort.h:14:\n",
        "In file included from ./animal_class.h:22:\n",
        "./genome_info.h:55:14: warning: 'auto' type specifier is a C++11 extension [-Wc++11-extensions]\n",
        "        for( auto &i : *this){\n",
        "             ^\n",
        "./genome_info.h:55:22: warning: range-based for loop is a C++11 extension [-Wc++11-extensions]\n",
        "        for( auto &i : *this){\n",
        "                     ^\n",
        "2 warnings generated.\n"
       ]
      }
     ],
     "prompt_number": 31
    },
    {
     "cell_type": "code",
     "collapsed": false,
     "input": [
      "%%bash\n",
      "cd ..\n",
      "./GenSim"
     ],
     "language": "python",
     "metadata": {},
     "outputs": [
      {
       "output_type": "stream",
       "stream": "stdout",
       "text": [
        "Sampling 100 animals randomly into base population.\n",
        "Generation 1 ---> Sampling 100 children into next generation.\n",
        "Generation 2 ---> Sampling 100 children into next generation.\n",
        "Generation 3 ---> Sampling 100 children into next generation.\n",
        "Generation 4 ---> Sampling 100 children into next generation.\n",
        "Generation 5 ---> Sampling 100 children into next generation.\n",
        "Generation 6 ---> Sampling 100 children into next generation.\n",
        "Generation 7 ---> Sampling 100 children into next generation.\n",
        "Generation 8 ---> Sampling 100 children into next generation.\n",
        "Generation 9 ---> Sampling 100 children into next generation.\n",
        "DONE\n"
       ]
      }
     ],
     "prompt_number": 34
    }
   ],
   "metadata": {}
  }
 ]
}